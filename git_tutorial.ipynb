{
 "cells": [
  {
   "cell_type": "markdown",
   "metadata": {},
   "source": [
    "# リモートリポジトリを作ったらすること\n",
    "## ローカルでgitに追跡させたいディレクトリをターミナルで開いて\n",
    "git init\n",
    "## 適当にリモートリポジトリにpushしたいファイルを選んで\n",
    "git add ファイル名\n",
    "## そのファイルをコミットする\n",
    "git commit -m \"first commit\"\n",
    "## デフォルトで初期化したときに作られているブランチはmasterだけどポリコレ的にbadらしいので\n",
    "git branch -M main\n",
    "## で名前をmainに変えたら、リモートリポジトリとローカルリポジトリを接続するために\n",
    "git remote add origin <>code→SSHをコピー\n",
    "## さっきコミットしたファイルをpushすることでローカルとリモートの接続完了\n",
    "git push -u origin main\n",
    "\n",
    "---\n"
   ]
  },
  {
   "cell_type": "markdown",
   "metadata": {},
   "source": [
    "# よく使うコマンド一覧\n",
    "\n",
    "---\n",
    "## 今の状態を確認する\n",
    "git status\n",
    "## 今のブランチを確認する\n",
    "git branch\n",
    "## ブランチを切り替える\n",
    "git switch ブランチ名\n",
    "## ブランチを新しく作って切り替える\n",
    "git switch -c ブランチ名\n",
    "\n",
    "---\n",
    "## ファイルをステージングエリアに追加方法\n",
    "### 指定したファイルだけをステージングエリアに追加する\n",
    "git add ファイル名\n",
    "### まだ追跡してないファイルを全てステージングエリアに追加する\n",
    "git add -A\n",
    "\n",
    "---\n",
    "## ステージングエリアに登録したファイルをローカルリポジトリにコミットする方法\n",
    "### 長いコミットメッセージを書くとき(editerが開かれる)\n",
    "git commit\n",
    "### ひとことだけ添えるとき\n",
    "git commit -m \"コミットメッセージ\"\n",
    "\n",
    "---\n",
    "## ローカルリポジトリの内容をリモートリポジトリにプッシュする方法\n",
    "git push -u origin ブランチ名\n",
    "## リモートリポジトリから変更を取得する方法\n",
    "git pull origin ブランチ名\n",
    "## リモートリポジトリの内容を他のブランチに反映する方法\n",
    "git switch 反映したいブランチ\n",
    "git merge プルしたブランチ\n",
    "\n"
   ]
  },
  {
   "cell_type": "markdown",
   "metadata": {},
   "source": [
    "---\n",
    "\n",
    "# githubの便利な機能\n",
    "\n",
    "任意のリポジトリに対してダウンロードしたいフォルダやファイルがあった場合は  \n",
    "\".\"をキーボードで押すとvscodeが開かれて、ダウンロードできるようになる\n"
   ]
  }
 ],
 "metadata": {
  "language_info": {
   "name": "python"
  }
 },
 "nbformat": 4,
 "nbformat_minor": 2
}
